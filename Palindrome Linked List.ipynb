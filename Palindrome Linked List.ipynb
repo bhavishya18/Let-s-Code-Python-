{
 "cells": [
  {
   "cell_type": "code",
   "execution_count": 25,
   "metadata": {},
   "outputs": [
    {
     "name": "stdout",
     "output_type": "stream",
     "text": [
      "7 -> 2 -> 1 -> 2 -> 4 -> 2 -> 1 -> 2 -> 7\n",
      "7\n",
      "7\n",
      "2\n",
      "2\n",
      "1\n",
      "1\n",
      "2\n",
      "2\n"
     ]
    },
    {
     "data": {
      "text/plain": [
       "True"
      ]
     },
     "execution_count": 25,
     "metadata": {},
     "output_type": "execute_result"
    }
   ],
   "source": [
    "class ListNode:\n",
    "    def __init__(self,x):\n",
    "        self.val=x\n",
    "        self.next=None\n",
    "\n",
    "class Solution:\n",
    "    def __init__(self):\n",
    "        self.head = None\n",
    "    def append(self,data):\n",
    "        new_node = ListNode(data)\n",
    "        if self.head==None:\n",
    "            self.head = new_node\n",
    "            return\n",
    "        last = self.head\n",
    "        while last.next:\n",
    "            last=last.next\n",
    "        last.next = new_node\n",
    "    \n",
    "    def display(self):\n",
    "        temp = self.head\n",
    "        while temp:\n",
    "            if temp.next==None:\n",
    "                print temp.val\n",
    "                return\n",
    "            print temp.val, '->',\n",
    "            temp  =temp.next\n",
    "    def isPalindrome(self, ll):\n",
    "        head=ll\n",
    "        slow=ll\n",
    "        fast=ll\n",
    "        while fast and fast.next!=None:\n",
    "            slow=slow.next\n",
    "            fast=fast.next.next\n",
    "        if fast==None:\n",
    "            slow=slow\n",
    "        else:\n",
    "            slow=slow.next\n",
    "        fast=slow\n",
    "        slow=head\n",
    "        prev = None\n",
    "        \n",
    "        while fast:\n",
    "            curr = ListNode(fast.val)\n",
    "            curr.next = prev\n",
    "            fast=fast.next\n",
    "            prev=curr\n",
    "        fast=prev\n",
    "        while fast and slow:\n",
    "            if fast.val !=slow.val:\n",
    "                return False\n",
    "            else:\n",
    "                fast=fast.next\n",
    "                slow=slow.next\n",
    "        \n",
    "        return True\n",
    "            \n",
    "    \n",
    "l=Solution()\n",
    "l.append(7)\n",
    "l.append(2)\n",
    "l.append(1)\n",
    "l.append(2)\n",
    "l.append(4)\n",
    "l.append(2)\n",
    "l.append(1)\n",
    "l.append(2)\n",
    "l.append(7)\n",
    "l.display()\n",
    "r=Solution()\n",
    "# result=ListNode(0)\n",
    "r.isPalindrome(l.head)\n",
    "# result=result.next\n",
    "# while result:\n",
    "#     print result.val,\n",
    "#     result=result.next"
   ]
  }
 ],
 "metadata": {
  "kernelspec": {
   "display_name": "Python 2",
   "language": "python",
   "name": "python2"
  }
 },
 "nbformat": 4,
 "nbformat_minor": 2
}
