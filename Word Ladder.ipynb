{
 "cells": [
  {
   "cell_type": "code",
   "execution_count": 13,
   "metadata": {},
   "outputs": [
    {
     "data": {
      "text/plain": [
       "5"
      ]
     },
     "execution_count": 13,
     "metadata": {},
     "output_type": "execute_result"
    }
   ],
   "source": [
    "import collections\n",
    "from collections import defaultdict\n",
    "class Solution(object):\n",
    "    def ladderLength(self, beginWord, endWord, wordList):\n",
    "        if not beginWord or not endWord or not wordList:\n",
    "            return 0\n",
    "        L = len(beginWord)\n",
    "        ladder = defaultdict(list)\n",
    "        for i in wordList:\n",
    "            for j in range(0,L):\n",
    "                ladder[i[:j]+\"*\"+i[j+1:]].append(i)\n",
    "        Q=collections.deque([(beginWord,1)])\n",
    "        visited = {beginWord: True}\n",
    "        while Q:\n",
    "            words, level = Q.popleft()\n",
    "            for i in range(L):\n",
    "                intermediate_word=words[:i]+\"*\"+words[i+1:]\n",
    "                for j in ladder[intermediate_word]:\n",
    "                    if j == endWord:\n",
    "                        return level +1 \n",
    "                    if j not in visited:\n",
    "                        visited[j]=True\n",
    "                        Q.append((j,level+1))\n",
    "                ladder[intermediate_word]=[]\n",
    "        return 0\n",
    "    \n",
    "beginWord = \"hit\"\n",
    "endWord = \"cog\"\n",
    "wordList = [\"hot\",\"dot\",\"dog\",\"lot\",\"log\",\"cog\"]\n",
    "s=Solution()\n",
    "s.ladderLength(beginWord, endWord, wordList)"
   ]
  },
  {
   "cell_type": "code",
   "execution_count": null,
   "metadata": {},
   "outputs": [],
   "source": []
  }
 ],
 "metadata": {
  "kernelspec": {
   "display_name": "Python 2",
   "language": "python",
   "name": "python2"
  },
  "language_info": {
   "codemirror_mode": {
    "name": "ipython",
    "version": 2
   },
   "file_extension": ".py",
   "mimetype": "text/x-python",
   "name": "python",
   "nbconvert_exporter": "python",
   "pygments_lexer": "ipython2",
   "version": "2.7.15"
  }
 },
 "nbformat": 4,
 "nbformat_minor": 2
}
