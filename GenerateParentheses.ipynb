{
 "cells": [
  {
   "cell_type": "code",
   "execution_count": 3,
   "metadata": {},
   "outputs": [
    {
     "data": {
      "text/plain": [
       "['((()))', '(()())', '(())()', '()(())', '()()()']"
      ]
     },
     "execution_count": 3,
     "metadata": {},
     "output_type": "execute_result"
    }
   ],
   "source": [
    "class Solution:\n",
    "    def generateParenthesis(self, n):\n",
    "        out=[]\n",
    "        def backtrack(S,left, right, n):\n",
    "            if len(S) == 2*n:\n",
    "                out.append(S)\n",
    "            if left<n:\n",
    "                backtrack(S+'(',left+1,right,n)\n",
    "            if right<left:\n",
    "                backtrack(S+')',left,right+1,n)\n",
    "        backtrack(\"\", 0, 0, n)\n",
    "        return out\n",
    "    \n",
    "    \n",
    "arr = Solution()\n",
    "arr.generateParenthesis(3)"
   ]
  },
  {
   "cell_type": "code",
   "execution_count": null,
   "metadata": {},
   "outputs": [],
   "source": []
  }
 ],
 "metadata": {
  "kernelspec": {
   "display_name": "Python 2",
   "language": "python",
   "name": "python2"
  },
  "language_info": {
   "codemirror_mode": {
    "name": "ipython",
    "version": 2
   },
   "file_extension": ".py",
   "mimetype": "text/x-python",
   "name": "python",
   "nbconvert_exporter": "python",
   "pygments_lexer": "ipython2",
   "version": "2.7.15"
  }
 },
 "nbformat": 4,
 "nbformat_minor": 2
}
