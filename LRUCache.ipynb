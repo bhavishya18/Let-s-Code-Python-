{
 "cells": [
  {
   "cell_type": "code",
   "execution_count": 3,
   "metadata": {},
   "outputs": [
    {
     "name": "stdout",
     "output_type": "stream",
     "text": [
      "None\n",
      "None\n",
      "1\n",
      "None\n",
      "-1\n",
      "None\n",
      "-1\n",
      "3\n",
      "4\n"
     ]
    }
   ],
   "source": [
    "import collections\n",
    "class LRUCache(object):\n",
    "\n",
    "    def __init__(self, capacity):\n",
    "        \"\"\"\n",
    "        :type capacity: int\n",
    "        \"\"\"\n",
    "        self.capacity = capacity\n",
    "        self.key_dic = collections.OrderedDict()\n",
    "\n",
    "    def get(self, key):\n",
    "        \"\"\"\n",
    "        :type key: int\n",
    "        :rtype: int\n",
    "        \"\"\"\n",
    "        if key in self.key_dic.keys():\n",
    "            value = self.key_dic[key]\n",
    "            self.key_dic.pop(key)\n",
    "            self.key_dic[key]=value\n",
    "            return value\n",
    "        return -1\n",
    "\n",
    "    def put(self, key, value):\n",
    "        if key in self.key_dic:\n",
    "            self.key_dic.pop(key)\n",
    "        elif len(self.key_dic) == self.capacity:\n",
    "            self.key_dic.popitem(False)\n",
    "        self.key_dic[key] = value\n",
    "        \n",
    "cache = LRUCache(2);\n",
    "\n",
    "print cache.put(1, 1)\n",
    "print cache.put(2, 2)\n",
    "print cache.get(1)\n",
    "print cache.put(3, 3)\n",
    "print cache.get(2)\n",
    "print cache.put(4, 4)\n",
    "print cache.get(1)\n",
    "print cache.get(3)\n",
    "print cache.get(4)"
   ]
  },
  {
   "cell_type": "code",
   "execution_count": null,
   "metadata": {},
   "outputs": [],
   "source": []
  }
 ],
 "metadata": {
  "kernelspec": {
   "display_name": "Python 2",
   "language": "python",
   "name": "python2"
  },
  "language_info": {
   "codemirror_mode": {
    "name": "ipython",
    "version": 2
   },
   "file_extension": ".py",
   "mimetype": "text/x-python",
   "name": "python",
   "nbconvert_exporter": "python",
   "pygments_lexer": "ipython2",
   "version": "2.7.15"
  }
 },
 "nbformat": 4,
 "nbformat_minor": 2
}
