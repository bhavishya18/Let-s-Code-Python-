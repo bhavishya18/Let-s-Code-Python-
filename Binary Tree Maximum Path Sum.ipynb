{
 "cells": [
  {
   "cell_type": "code",
   "execution_count": 6,
   "metadata": {},
   "outputs": [
    {
     "data": {
      "text/plain": [
       "42"
      ]
     },
     "execution_count": 6,
     "metadata": {},
     "output_type": "execute_result"
    }
   ],
   "source": [
    "class TreeNode:\n",
    "    def __init__(self, x):\n",
    "        self.val=x\n",
    "        self.left=None\n",
    "        self.right=None\n",
    "class Solution:\n",
    "    def maxPathSum(self, root):\n",
    "        self.max=float('-inf')\n",
    "        def helper(root):\n",
    "            if root==None:\n",
    "                return 0\n",
    "            ls=max(helper(root.left),0)\n",
    "            rs=max(helper(root.right),0)\n",
    "            self.max=max(self.max, ls+rs+root.val)\n",
    "            return max(ls,rs,0)+root.val\n",
    "        helper(root)\n",
    "        return self.max\n",
    "t=TreeNode(-10)\n",
    "t.left=TreeNode(9)\n",
    "t.right=TreeNode(20)\n",
    "t.right.left=TreeNode(15)\n",
    "t.right.right=TreeNode(7)\n",
    "s=Solution()\n",
    "s.maxPathSum(t)"
   ]
  },
  {
   "cell_type": "code",
   "execution_count": null,
   "metadata": {},
   "outputs": [],
   "source": []
  }
 ],
 "metadata": {
  "kernelspec": {
   "display_name": "Python 2",
   "language": "python",
   "name": "python2"
  },
  "language_info": {
   "codemirror_mode": {
    "name": "ipython",
    "version": 2
   },
   "file_extension": ".py",
   "mimetype": "text/x-python",
   "name": "python",
   "nbconvert_exporter": "python",
   "pygments_lexer": "ipython2",
   "version": "2.7.15"
  }
 },
 "nbformat": 4,
 "nbformat_minor": 2
}
