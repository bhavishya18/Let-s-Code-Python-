{
 "cells": [
  {
   "cell_type": "code",
   "execution_count": 4,
   "metadata": {},
   "outputs": [
    {
     "data": {
      "text/plain": [
       "[[1, 2, 3], [1, 3, 2], [2, 1, 3], [2, 3, 1], [3, 1, 2], [3, 2, 1]]"
      ]
     },
     "execution_count": 4,
     "metadata": {},
     "output_type": "execute_result"
    }
   ],
   "source": [
    "class Solution(object):\n",
    "    def permute(self, nums):\n",
    "        result=[]\n",
    "        def backtrack(head, tail):\n",
    "            if len(head)==n:\n",
    "                result.append(head)\n",
    "            else:\n",
    "                for i in range(0,len(tail)):\n",
    "                    backtrack(head+[tail[i]], tail[:i]+tail[i+1:])\n",
    "        head=[]\n",
    "        tail=nums\n",
    "        n=len(nums)\n",
    "        backtrack(head, tail)\n",
    "        return result\n",
    "\n",
    "nums=[1,2,3]\n",
    "s=Solution()\n",
    "s.permute(nums)"
   ]
  }
 ],
 "metadata": {
  "kernelspec": {
   "display_name": "Python 2",
   "language": "python",
   "name": "python2"
  },
  "language_info": {
   "codemirror_mode": {
    "name": "ipython",
    "version": 2
   },
   "file_extension": ".py",
   "mimetype": "text/x-python",
   "name": "python",
   "nbconvert_exporter": "python",
   "pygments_lexer": "ipython2",
   "version": "2.7.15"
  }
 },
 "nbformat": 4,
 "nbformat_minor": 2
}
