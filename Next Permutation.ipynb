{
 "cells": [
  {
   "cell_type": "code",
   "execution_count": 6,
   "metadata": {},
   "outputs": [
    {
     "data": {
      "text/plain": [
       "[4, 9, 1, 3, 5]"
      ]
     },
     "execution_count": 6,
     "metadata": {},
     "output_type": "execute_result"
    }
   ],
   "source": [
    "class Solution(object):\n",
    "    def nextPermutation(self, nums):\n",
    "        i=len(nums)-2\n",
    "        while i>=0 and nums[i+1]<=nums[i]:\n",
    "            i-=1\n",
    "        j=len(nums)-1\n",
    "        while i>=0 and nums[j]<=nums[i]:  ##pay attention to i>=0 because if i is less than 0 this won't execute.\n",
    "            j-=1\n",
    "        temp=nums[j]\n",
    "        nums[j]=nums[i]\n",
    "        nums[i]=temp\n",
    "        i=i+1\n",
    "        j=len(nums)-1\n",
    "        while i<j:\n",
    "            temp=nums[j]\n",
    "            nums[j]=nums[i]\n",
    "            nums[i]=temp\n",
    "            i=i+1\n",
    "            j=j-1\n",
    "        return nums\n",
    "            \n",
    "            \n",
    "result=Solution()\n",
    "result.nextPermutation([4, 5, 9, 3, 1])"
   ]
  },
  {
   "cell_type": "code",
   "execution_count": null,
   "metadata": {},
   "outputs": [],
   "source": []
  }
 ],
 "metadata": {
  "kernelspec": {
   "display_name": "Python 2",
   "language": "python",
   "name": "python2"
  },
  "language_info": {
   "codemirror_mode": {
    "name": "ipython",
    "version": 2
   },
   "file_extension": ".py",
   "mimetype": "text/x-python",
   "name": "python",
   "nbconvert_exporter": "python",
   "pygments_lexer": "ipython2",
   "version": "2.7.15"
  }
 },
 "nbformat": 4,
 "nbformat_minor": 2
}
