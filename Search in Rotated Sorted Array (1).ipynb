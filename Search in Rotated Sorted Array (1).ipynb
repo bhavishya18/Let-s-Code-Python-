{
 "cells": [
  {
   "cell_type": "code",
   "execution_count": 3,
   "metadata": {},
   "outputs": [
    {
     "data": {
      "text/plain": [
       "1"
      ]
     },
     "execution_count": 3,
     "metadata": {},
     "output_type": "execute_result"
    }
   ],
   "source": [
    "\n",
    "class Solution(object):\n",
    "    def search(self, nums, target):\n",
    "        n=len(nums)-1\n",
    "        for i in range(1, n+1):\n",
    "            if nums[i]<nums[i-1]:\n",
    "                break\n",
    "        \n",
    "        if target>=nums[i] and target<=nums[n]:\n",
    "            return self.binarysearch(i,n, nums, target)\n",
    "        else:\n",
    "            return self.binarysearch(0,i-1, nums, target)\n",
    "    def binarysearch(self,start,end,nums, target):\n",
    "        while start<=end:\n",
    "            mid=(start+end)/2\n",
    "            if nums[mid]==target:\n",
    "                return mid\n",
    "            elif target<nums[mid]:\n",
    "                end=mid-1\n",
    "            else:\n",
    "                start=mid+1\n",
    "        return -1\n",
    "\n",
    "        \n",
    "s=Solution()\n",
    "nums = [4,5,6,7,0,1,2]\n",
    "target = 5\n",
    "s.search(nums,target)"
   ]
  },
  {
   "cell_type": "code",
   "execution_count": 7,
   "metadata": {},
   "outputs": [
    {
     "data": {
      "text/plain": [
       "-1"
      ]
     },
     "execution_count": 7,
     "metadata": {},
     "output_type": "execute_result"
    }
   ],
   "source": [
    "class Solution(object):\n",
    "    def search(self, nums, target):\n",
    "        right=len(nums)-1\n",
    "        left=0\n",
    "        while left<right:\n",
    "            mid=(left+right)/2\n",
    "            if nums[mid]>nums[right]:\n",
    "                left=mid+1\n",
    "            else:\n",
    "                right=mid\n",
    "        right=len(nums)-1\n",
    "        start=left\n",
    "        if target>=nums[start] and target<=nums[right]:\n",
    "            return self.binarysearch(start,right,nums, target)\n",
    "        else:\n",
    "            return self.binarysearch(0,start-1,nums, target)\n",
    "    def binarysearch(self,start,end,nums, target):\n",
    "        while start<=end:\n",
    "            mid=(start+end)/2\n",
    "            if nums[mid]==target:\n",
    "                return mid\n",
    "            elif target<nums[mid]:\n",
    "                end=mid-1\n",
    "            else:\n",
    "                start=mid+1\n",
    "        return -1\n",
    "    \n",
    "s=Solution()\n",
    "nums = [4,5,6,7,0,1,2]\n",
    "target = 3\n",
    "s.search(nums,target)"
   ]
  },
  {
   "cell_type": "code",
   "execution_count": null,
   "metadata": {},
   "outputs": [],
   "source": []
  }
 ],
 "metadata": {
  "kernelspec": {
   "display_name": "Python 2",
   "language": "python",
   "name": "python2"
  },
  "language_info": {
   "codemirror_mode": {
    "name": "ipython",
    "version": 2
   },
   "file_extension": ".py",
   "mimetype": "text/x-python",
   "name": "python",
   "nbconvert_exporter": "python",
   "pygments_lexer": "ipython2",
   "version": "2.7.15"
  }
 },
 "nbformat": 4,
 "nbformat_minor": 2
}
