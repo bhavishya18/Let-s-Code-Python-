{
 "cells": [
  {
   "cell_type": "code",
   "execution_count": null,
   "metadata": {},
   "outputs": [],
   "source": [
    "from collections import deque\n",
    "class Node:\n",
    "    def __init__(self, val = 0, neighbors = None):\n",
    "        self.val = val\n",
    "        self.neighbors = neighbors if neighbors is not None else []\n",
    "\n",
    "class Solution(object):\n",
    "    def cloneGraph(self, node):\n",
    "        result = defaultdict(Node)\n",
    "        result[None] = None\n",
    "        visited = set()\n",
    "        dq = deque()\n",
    "        if node:\n",
    "            dq.append(node)\n",
    "        while dq:\n",
    "            p = dq.popleft()\n",
    "            if p not in visited:\n",
    "                visited.add(p.val)\n",
    "                result[p].val = p.val\n",
    "                for i in p.neighbors:\n",
    "                    result[p].neighbors.append(result[i])\n",
    "                    dq.append(i)\n",
    "        return result[node]"
   ]
  },
  {
   "cell_type": "code",
   "execution_count": null,
   "metadata": {},
   "outputs": [],
   "source": []
  }
 ],
 "metadata": {
  "kernelspec": {
   "display_name": "Python 2",
   "language": "python",
   "name": "python2"
  },
  "language_info": {
   "codemirror_mode": {
    "name": "ipython",
    "version": 2
   },
   "file_extension": ".py",
   "mimetype": "text/x-python",
   "name": "python",
   "nbconvert_exporter": "python",
   "pygments_lexer": "ipython2",
   "version": "2.7.15"
  }
 },
 "nbformat": 4,
 "nbformat_minor": 2
}
