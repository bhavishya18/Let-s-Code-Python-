{
 "cells": [
  {
   "cell_type": "code",
   "execution_count": 1,
   "metadata": {},
   "outputs": [
    {
     "data": {
      "text/plain": [
       "[3, 4]"
      ]
     },
     "execution_count": 1,
     "metadata": {},
     "output_type": "execute_result"
    }
   ],
   "source": [
    "\n",
    "#Output: [3,4]\n",
    "\n",
    "class Solution(object):\n",
    "    def searchRange(self, nums, target):\n",
    "        if not nums or not target:\n",
    "            return [-1,-1]\n",
    "        indexleft=self.binarysearch(nums,target, True)\n",
    "        if indexleft==len(nums) or nums[indexleft]!=target:\n",
    "            return [-1,-1]\n",
    "        return [indexleft, self.binarysearch(nums,target, False)-1]\n",
    "    def binarysearch(self,nums,target, flag):\n",
    "        left=0\n",
    "        right=len(nums)\n",
    "        while left<right:\n",
    "            mid=(left+right)/2\n",
    "            if target<nums[mid] or (flag and nums[mid]==target):\n",
    "                right=mid\n",
    "            else:\n",
    "                left=mid+1\n",
    "        return left\n",
    "nums = [5,7,7,8,8,10]\n",
    "target = 8\n",
    "s=Solution()\n",
    "s.searchRange(nums,target)"
   ]
  },
  {
   "cell_type": "code",
   "execution_count": null,
   "metadata": {},
   "outputs": [],
   "source": []
  }
 ],
 "metadata": {
  "kernelspec": {
   "display_name": "Python 2",
   "language": "python",
   "name": "python2"
  },
  "language_info": {
   "codemirror_mode": {
    "name": "ipython",
    "version": 2
   },
   "file_extension": ".py",
   "mimetype": "text/x-python",
   "name": "python",
   "nbconvert_exporter": "python",
   "pygments_lexer": "ipython2",
   "version": "2.7.15"
  }
 },
 "nbformat": 4,
 "nbformat_minor": 2
}
