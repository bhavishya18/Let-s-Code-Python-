{
 "cells": [
  {
   "cell_type": "code",
   "execution_count": 6,
   "metadata": {},
   "outputs": [
    {
     "data": {
      "text/plain": [
       "[1, 0, 0, 0]"
      ]
     },
     "execution_count": 6,
     "metadata": {},
     "output_type": "execute_result"
    }
   ],
   "source": [
    "class Solution(object):\n",
    "    def plusOne(self, digits):\n",
    "        n=len(digits)-1\n",
    "        carry=0\n",
    "        for i in range(n,-1,-1):\n",
    "            sum=0\n",
    "            if i==n:\n",
    "                sum=digits[i]+1\n",
    "            elif i!=n:\n",
    "                sum=digits[i]+carry\n",
    "            if sum<10:\n",
    "                digits[i]=sum\n",
    "                return digits\n",
    "            else:\n",
    "                digits[i]=sum%10\n",
    "                carry=1\n",
    "        if carry==1:\n",
    "            digits.insert(0,1)\n",
    "        return digits\n",
    "    \n",
    "nums=[9,9,9]\n",
    "s=Solution()\n",
    "s.plusOne(nums)"
   ]
  },
  {
   "cell_type": "code",
   "execution_count": null,
   "metadata": {},
   "outputs": [],
   "source": []
  }
 ],
 "metadata": {
  "kernelspec": {
   "display_name": "Python 2",
   "language": "python",
   "name": "python2"
  },
  "language_info": {
   "codemirror_mode": {
    "name": "ipython",
    "version": 2
   },
   "file_extension": ".py",
   "mimetype": "text/x-python",
   "name": "python",
   "nbconvert_exporter": "python",
   "pygments_lexer": "ipython2",
   "version": "2.7.15"
  }
 },
 "nbformat": 4,
 "nbformat_minor": 2
}
