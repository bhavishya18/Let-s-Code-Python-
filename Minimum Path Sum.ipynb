{
 "cells": [
  {
   "cell_type": "code",
   "execution_count": 5,
   "metadata": {},
   "outputs": [
    {
     "name": "stdout",
     "output_type": "stream",
     "text": [
      "[[1, 4, 5], [2, 7, 6], [6, 8, 7]]\n"
     ]
    },
    {
     "data": {
      "text/plain": [
       "7"
      ]
     },
     "execution_count": 5,
     "metadata": {},
     "output_type": "execute_result"
    }
   ],
   "source": [
    "class Solution(object):\n",
    "    def minPathSum(self, grid):\n",
    "        if not grid:\n",
    "            return 0\n",
    "        m=len(grid)\n",
    "        n=len(grid[0])\n",
    "        dp = [[0]*n for _ in range(m)]\n",
    "        for i in range(0,m):\n",
    "            for j in range(0,n):\n",
    "                if i==0 and j==0:\n",
    "                    dp[i][j]=grid[i][j]\n",
    "                elif i==0:\n",
    "                    dp[i][j]=grid[i][j]+dp[i][j-1]\n",
    "                elif j==0:\n",
    "                    dp[i][j]=grid[i][j]+dp[i-1][j]\n",
    "                else:\n",
    "                    dp[i][j]=grid[i][j]+min(dp[i][j-1],dp[i-1][j])\n",
    "        print dp\n",
    "        return dp[-1][-1]\n",
    "    \n",
    "grid= [\n",
    "  [1,3,1],\n",
    "  [1,5,1],\n",
    "  [4,2,1]\n",
    "]\n",
    "\n",
    "s=Solution()\n",
    "s.minPathSum(grid)"
   ]
  },
  {
   "cell_type": "code",
   "execution_count": null,
   "metadata": {},
   "outputs": [],
   "source": []
  }
 ],
 "metadata": {
  "kernelspec": {
   "display_name": "Python 2",
   "language": "python",
   "name": "python2"
  },
  "language_info": {
   "codemirror_mode": {
    "name": "ipython",
    "version": 2
   },
   "file_extension": ".py",
   "mimetype": "text/x-python",
   "name": "python",
   "nbconvert_exporter": "python",
   "pygments_lexer": "ipython2",
   "version": "2.7.15"
  }
 },
 "nbformat": 4,
 "nbformat_minor": 2
}
